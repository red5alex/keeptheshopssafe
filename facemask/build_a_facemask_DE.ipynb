{
 "cells": [
  {
   "cell_type": "markdown",
   "metadata": {},
   "source": [
    "# Herstellen eines Mundschutzes\n",
    "\n",
    "*feedback: alex.renz@gmx.net*\n",
    "\n",
    "*Hinweis: Diese Anleitung basiert auf der Übersetzung von bestehenden Anleitungen aus dem Netz. Die Längenangaben wurden  umgerechnet. Das Design ist bereits von anderen getestet, Anmerkungen/Kritik gerne.*\n",
    "\n",
    "Credit / weitere Infos (Fotos / Video):\n",
    "\n",
    "<a href=\"https://www.deaconess.com/How-to-make-a-Face-Mask\">www.deaconess.com/How-to-make-a-Face-Mask</a>\n",
    "\n",
    "<a href=\"https://www.instructables.com/id/Sew-an-Emergency-Face-Mask\">www.instructables.com/id/Sew-an-Emergency-Face-Mask</a>"
   ]
  },
  {
   "cell_type": "markdown",
   "metadata": {},
   "source": [
    "**Materialbedarf**\n",
    "\n",
    "- 2 Baumwolltücher, 7 x 9 Zoll (18 x 23 cm)\n",
    "  + idealerweise kochfest (ein modisches Muster ist von Vorteil) \n",
    "\n",
    "- 2 Elastikbänder 7 Zoll (18 cm)"
   ]
  },
  {
   "cell_type": "markdown",
   "metadata": {},
   "source": [
    "**Arbeitsschritte**"
   ]
  },
  {
   "cell_type": "markdown",
   "metadata": {
    "ExecuteTime": {
     "end_time": "2020-03-22T13:54:15.586180Z",
     "start_time": "2020-03-22T13:54:15.581179Z"
    }
   },
   "source": [
    "<img src=\"./material_DE.svg\">"
   ]
  },
  {
   "cell_type": "markdown",
   "metadata": {},
   "source": [
    "1. Die Tücher und Elastikbänder zurechtschneiden\n",
    "\n",
    "2. Die beiden Tücher zusammenlegen (je auf ihrer Innenseite)\n",
    "\n",
    "3. Von der Mitte der (längeren) Unterseite zur Ecke nähen. Das Ende des Elastikbandes mit einnähen (mehrmals vor- und zurücknähen).\n",
    "\n",
    "4. Weiter zur oberen Ecke nähen, und hier das andere Ende des Elastibandes einnähen.  \n",
    "\n",
    "5. Anschließend über die lange Oberkannte zur linken Ecke und das zweite Elasikband einnähen. \n",
    "\n",
    "6. Weiter zur letzten Ecke und das Elastikband vernähen\n",
    "\n",
    "7. zurück zur Mitte, etwa 5 cm Platz lassen."
   ]
  },
  {
   "cell_type": "markdown",
   "metadata": {
    "ExecuteTime": {
     "end_time": "2020-03-22T14:01:43.526213Z",
     "start_time": "2020-03-22T14:01:43.521270Z"
    }
   },
   "source": [
    "<img src=\"./sewpath_DE.svg\">"
   ]
  },
  {
   "cell_type": "markdown",
   "metadata": {
    "ExecuteTime": {
     "end_time": "2020-03-22T14:06:20.838577Z",
     "start_time": "2020-03-22T14:06:20.833602Z"
    }
   },
   "source": [
    " 8. Die Maske auf Rechts drehen.\n",
    " "
   ]
  },
  {
   "cell_type": "markdown",
   "metadata": {},
   "source": [
    "<img src=\"./inside_out_DE.svg\">"
   ]
  },
  {
   "cell_type": "markdown",
   "metadata": {},
   "source": [
    "9. Die Maske der Länge nach 3-mal Falten und mit Nadeln fixieren. Die Neue Höhe der Maske sollte bei ca. 9 cm liegen.\n",
    " \n",
    "10. An der Linken und Rechten Seite vernähen.\n"
   ]
  },
  {
   "cell_type": "markdown",
   "metadata": {},
   "source": [
    "<img src=\"./folding_DE.png\">\n",
    "\n",
    "<img src=\"https://www.instructables.com/assets/img/license/by-nc-sa_small.png\"><font size=2 color=\"#999999\"> https://www.instructables.com/id/Sew-an-Emergency-Face-Mask/</font>"
   ]
  },
  {
   "cell_type": "markdown",
   "metadata": {
    "ExecuteTime": {
     "end_time": "2020-03-22T14:15:43.093863Z",
     "start_time": "2020-03-22T14:15:43.088861Z"
    }
   },
   "source": [
    "Fertig!"
   ]
  }
 ],
 "metadata": {
  "hide_input": false,
  "kernelspec": {
   "display_name": "Python 3",
   "language": "python",
   "name": "python3"
  },
  "language_info": {
   "codemirror_mode": {
    "name": "ipython",
    "version": 3
   },
   "file_extension": ".py",
   "mimetype": "text/x-python",
   "name": "python",
   "nbconvert_exporter": "python",
   "pygments_lexer": "ipython3",
   "version": "3.6.6"
  },
  "toc": {
   "nav_menu": {},
   "number_sections": true,
   "sideBar": true,
   "skip_h1_title": true,
   "toc_cell": false,
   "toc_position": {},
   "toc_section_display": "block",
   "toc_window_display": false
  },
  "varInspector": {
   "cols": {
    "lenName": 16,
    "lenType": 16,
    "lenVar": 40
   },
   "kernels_config": {
    "python": {
     "delete_cmd_postfix": "",
     "delete_cmd_prefix": "del ",
     "library": "var_list.py",
     "varRefreshCmd": "print(var_dic_list())"
    },
    "r": {
     "delete_cmd_postfix": ") ",
     "delete_cmd_prefix": "rm(",
     "library": "var_list.r",
     "varRefreshCmd": "cat(var_dic_list()) "
    }
   },
   "types_to_exclude": [
    "module",
    "function",
    "builtin_function_or_method",
    "instance",
    "_Feature"
   ],
   "window_display": false
  }
 },
 "nbformat": 4,
 "nbformat_minor": 2
}
